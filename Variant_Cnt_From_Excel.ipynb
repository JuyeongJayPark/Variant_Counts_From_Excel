{
 "cells": [
  {
   "cell_type": "code",
   "execution_count": null,
   "id": "f1d4abee-ead5-4601-942b-10ffd773dcc9",
   "metadata": {},
   "outputs": [],
   "source": [
    "#Developer: Juyeong.Park\n",
    "#Description: Calculating Variant Counts from Annotated VCF Excel File"
   ]
  },
  {
   "cell_type": "code",
   "execution_count": 2,
   "id": "643f39bc-2b28-499d-b597-262f2ca21b64",
   "metadata": {},
   "outputs": [],
   "source": [
    "import os"
   ]
  },
  {
   "cell_type": "code",
   "execution_count": 28,
   "id": "4897906f-e0e8-4152-bc8a-44779a6819f7",
   "metadata": {},
   "outputs": [],
   "source": [
    "import pandas as pd "
   ]
  },
  {
   "cell_type": "code",
   "execution_count": 17,
   "id": "5861519b-108d-47cf-ba11-2e643f5152b6",
   "metadata": {},
   "outputs": [],
   "source": [
    "wd_path = \"/TBI/People/tbi/jypark/busan_vcf_stat/Sample_Sheets_2021\" # Working Directory Path"
   ]
  },
  {
   "cell_type": "code",
   "execution_count": 3,
   "id": "dd36d400-5b18-476c-a769-bad41dc20bd2",
   "metadata": {},
   "outputs": [],
   "source": [
    "# Listing Files From \"Sample_Sheets_2021\" Folder\n",
    "Sample_Files = os.listdir(\"Sample_Sheets_2021\")"
   ]
  },
  {
   "cell_type": "code",
   "execution_count": 25,
   "id": "12e2b6f9-8b7f-46d1-a200-7ec4f86071e6",
   "metadata": {},
   "outputs": [],
   "source": [
    "Sample_list = []\n",
    "Sample_Panel_list = []\n",
    "Variant_Count_list = []"
   ]
  },
  {
   "cell_type": "code",
   "execution_count": 26,
   "id": "9d956045-a5bd-4bd3-8bb7-b814b5efcab1",
   "metadata": {},
   "outputs": [
    {
     "name": "stderr",
     "output_type": "stream",
     "text": [
      "/TBI/People/tbi/jypark/miniconda3/envs/R36/lib/python3.10/site-packages/openpyxl/worksheet/_reader.py:300: UserWarning: Unknown extension is not supported and will be removed\n",
      "  warn(msg)\n",
      "/TBI/People/tbi/jypark/miniconda3/envs/R36/lib/python3.10/site-packages/openpyxl/worksheet/_reader.py:300: UserWarning: Conditional Formatting extension is not supported and will be removed\n",
      "  warn(msg)\n",
      "/TBI/People/tbi/jypark/miniconda3/envs/R36/lib/python3.10/site-packages/openpyxl/worksheet/_reader.py:300: UserWarning: Unknown extension is not supported and will be removed\n",
      "  warn(msg)\n",
      "/TBI/People/tbi/jypark/miniconda3/envs/R36/lib/python3.10/site-packages/openpyxl/worksheet/_reader.py:300: UserWarning: Conditional Formatting extension is not supported and will be removed\n",
      "  warn(msg)\n",
      "/TBI/People/tbi/jypark/miniconda3/envs/R36/lib/python3.10/site-packages/openpyxl/worksheet/_reader.py:300: UserWarning: Unknown extension is not supported and will be removed\n",
      "  warn(msg)\n",
      "/TBI/People/tbi/jypark/miniconda3/envs/R36/lib/python3.10/site-packages/openpyxl/worksheet/_reader.py:300: UserWarning: Conditional Formatting extension is not supported and will be removed\n",
      "  warn(msg)\n",
      "/TBI/People/tbi/jypark/miniconda3/envs/R36/lib/python3.10/site-packages/openpyxl/worksheet/_reader.py:300: UserWarning: Unknown extension is not supported and will be removed\n",
      "  warn(msg)\n",
      "/TBI/People/tbi/jypark/miniconda3/envs/R36/lib/python3.10/site-packages/openpyxl/worksheet/_reader.py:300: UserWarning: Conditional Formatting extension is not supported and will be removed\n",
      "  warn(msg)\n",
      "/TBI/People/tbi/jypark/miniconda3/envs/R36/lib/python3.10/site-packages/openpyxl/worksheet/_reader.py:300: UserWarning: Unknown extension is not supported and will be removed\n",
      "  warn(msg)\n",
      "/TBI/People/tbi/jypark/miniconda3/envs/R36/lib/python3.10/site-packages/openpyxl/worksheet/_reader.py:300: UserWarning: Conditional Formatting extension is not supported and will be removed\n",
      "  warn(msg)\n"
     ]
    }
   ],
   "source": [
    "for Sample_File in Sample_Files: \n",
    "    Sample = Sample_File.split('.xlsx')[0]\n",
    "    Sample_Panel = \"_\".join(Sample_File.split('_')[2:-1])\n",
    "    Varinat_Count = pd.read_excel(os.path.join(wd_path,Sample_File), sheet_name = \"SNV INDEL\").shape[0]\n",
    "    \n",
    "    Sample_list.append(Sample)\n",
    "    Sample_Panel_list.append(Sample_Panel)\n",
    "    Variant_Count_list.append(Varinat_Count)"
   ]
  },
  {
   "cell_type": "code",
   "execution_count": 29,
   "id": "f09d8329-4cf0-4de3-a9ec-7096d2b24f9a",
   "metadata": {},
   "outputs": [],
   "source": [
    "Variants_Stat_df = pd.DataFrame({\"Sample\" : Sample_list, \"Panel\": Sample_Panel_list, \"Variant_cnt\" : Variant_Count_list})"
   ]
  },
  {
   "cell_type": "code",
   "execution_count": 34,
   "id": "5b606d4b-78ff-4446-81fe-6a0301d54a60",
   "metadata": {},
   "outputs": [],
   "source": [
    "Variants_Stat_df.to_excel(\"Variants_Count_Table.xlsx\", index =False, header = True)"
   ]
  },
  {
   "cell_type": "code",
   "execution_count": 35,
   "id": "5f52c28e-3ea6-48c0-aff4-c857c97b4a7e",
   "metadata": {},
   "outputs": [],
   "source": [
    "Variants_Stat_df.groupby(\"Panel\").mean().to_excel(\"Variants_Count_Mean_Table.xlsx\", index = True, header =True)"
   ]
  },
  {
   "cell_type": "code",
   "execution_count": null,
   "id": "e91dff26-61c5-4c94-b665-de77908529e2",
   "metadata": {},
   "outputs": [],
   "source": []
  }
 ],
 "metadata": {
  "kernelspec": {
   "display_name": "Python 3 (ipykernel)",
   "language": "python",
   "name": "python3"
  },
  "language_info": {
   "codemirror_mode": {
    "name": "ipython",
    "version": 3
   },
   "file_extension": ".py",
   "mimetype": "text/x-python",
   "name": "python",
   "nbconvert_exporter": "python",
   "pygments_lexer": "ipython3",
   "version": "3.10.2"
  }
 },
 "nbformat": 4,
 "nbformat_minor": 5
}
